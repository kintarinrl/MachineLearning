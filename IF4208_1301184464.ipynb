{
  "nbformat": 4,
  "nbformat_minor": 0,
  "metadata": {
    "colab": {
      "name": "IF4208_1301184464.ipynb",
      "provenance": []
    },
    "kernelspec": {
      "name": "python3",
      "display_name": "Python 3"
    }
  },
  "cells": [
    {
      "cell_type": "code",
      "metadata": {
        "id": "69LZnTy5ARYO",
        "outputId": "81caf0ad-9e5d-407a-d3ba-47cea6960dba",
        "colab": {
          "base_uri": "https://localhost:8080/",
          "height": 68
        }
      },
      "source": [
        "import numpy\n",
        "import random\n",
        "\n",
        "k = 2\n",
        "populations = 80\n",
        "generations = 1750\n",
        "\n",
        "def ip(k, populations):     #Inisialisasi Populasi \n",
        "    return numpy.random.uniform(low=[-1,-1], high=[2,1], size=(populations,k)) #interval, populations, k\n",
        "    \n",
        "def ft(X):          #fitness\n",
        "    f = numpy.cos(X[0])*numpy.sin(X[1]) - (X[0]/(X[1]**2 + 1)) #fungsi\n",
        "    return 1/(f + 0.002) #a = 0.002\n",
        "\n",
        "def sp(pop):    #Select Parent\n",
        "    tf = 0   #Inisialisasi Total Fitness\n",
        "    par = 0\n",
        "    for i in range(len(pop)):\n",
        "        tf += ft(pop[i])\n",
        "\n",
        "    dt = random.uniform(0,1)*tf\n",
        "    temp = 0\n",
        "    for i in range(len(pop)):\n",
        "        temp += ft(pop[i])\n",
        "        if dt < temp:\n",
        "            par = i\n",
        "            break\n",
        "\n",
        "    return par\n",
        "\n",
        "\n",
        "def rk(pop, ip): #Rekombinasi\n",
        "    child = numpy.zeros((2,2))\n",
        "    for i in range(len(ip)):\n",
        "        pi = i + 1\n",
        "        if pi > (1):\n",
        "            pi = 0\n",
        "        for j in range(0,1):\n",
        "            child[i][j] = pop[int(ip[i])][j]\n",
        "        for j in range(1,2):\n",
        "            child[i][j] = pop[int(ip[pi])][j]\n",
        "    return child\n",
        "\n",
        "\n",
        "def mut(x, k):         #Mutasi\n",
        "    m = random.randint(0,k-1)\n",
        "    if m == 1:\n",
        "        x[m] = (random.uniform(-1,2))\n",
        "    else:\n",
        "        x[m] = (random.uniform(-1,1))\n",
        "\n",
        "    return x\n",
        "\n",
        "def fr(pop):   #Fitness Rank\n",
        "    return numpy.array((numpy.insert(pop, len(pop[0]), [(ft(pop[i])) for i in range(len(pop))], axis=1)))\n",
        "\n",
        "\n",
        "#Main\n",
        "pop = ip(k, populations)\n",
        "gen = 1\n",
        "while gen <= generations:\n",
        "    child = numpy.zeros((1,k))\n",
        "    indPar = numpy.zeros((2))\n",
        "    while len(child) < len(pop):\n",
        "        for i in range(2):\n",
        "            indPar[i] = sp(pop)\n",
        "        rek = rk(pop, indPar)\n",
        "\n",
        "        for i in range(2):\n",
        "            rek[i] = mut(rek[i], k)\n",
        "        child = numpy.append(child,rek,axis=0)\n",
        "    child = numpy.delete(child,0,0)\n",
        "    \n",
        "    #Select Survivor\n",
        "    sort = fr(numpy.append(child,pop,axis=0))[numpy.argsort(fr(numpy.append(child,pop,axis=0))[:,-1])][::-1][:len(pop),:]\n",
        "    pop, sf = sort[:,:-1], sort[:,-1]           #population, sort fitness\n",
        "    \n",
        "    print(gen,'. Individu Terbaik = ' ,pop[0], '| Fitness = ' ,sf[0])\n",
        "    gen += 1\n",
        "print('Individu Terbaik : ' ,pop[0], ' Fitness : ' ,sf[0], ' Nilai Minimum : ', ((1/sf[0])))    \n"
      ],
      "execution_count": 6,
      "outputs": [
        {
          "output_type": "stream",
          "text": [
            "1 . Individu Terbaik =  [-0.54840961 -0.40271893] | Fitness =  7.17199315266623\n",
            "2 . Individu Terbaik =  [-0.54840961 -0.40271893] | Fitness =  7.17199315266623\n",
            "Individu Terbaik :  [-0.54840961 -0.40271893]  Fitness :  7.17199315266623  Nilai Minimum :  0.1394312541456128\n"
          ],
          "name": "stdout"
        }
      ]
    }
  ]
}